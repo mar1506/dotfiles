{
  "cells": [
    {
      "cell_type": "markdown",
      "metadata": {
        "id": "view-in-github",
        "colab_type": "text"
      },
      "source": [
        "<a href=\"https://colab.research.google.com/github/mar1506/dotfiles/blob/master/Understand_embeddings_with_word2vec.ipynb\" target=\"_parent\"><img src=\"https://colab.research.google.com/assets/colab-badge.svg\" alt=\"Open In Colab\"/></a>"
      ]
    },
    {
      "cell_type": "markdown",
      "metadata": {
        "id": "HanQVAX8jMC6"
      },
      "source": [
        "# Understand embeddings with Word2Vec\n",
        "\n",
        "### Exercise objectives:\n",
        "- Convert words to vector representations thanks to embeddings\n",
        "- Discover the powerful Word2Vec algorithm\n",
        "\n",
        "<hr>\n",
        "<hr>\n",
        "\n",
        "_Embeddings_ are representation of words thanks to vectors. These embeddings can be learnt within a Neural Network. But it can take time to converge. Another option is to learn them as a first step. Then, use them directly to feed the word representation into an RNN. \n",
        "\n",
        "\n",
        "\n",
        "# The data\n",
        "\n",
        "Keras provides many datasets, among which the ÌMDB dataset: it corresponds to sentences that are movie reviews. Each of them is related to a score given by the review writer.\n",
        "\n",
        "❓ **Question** ❓ Let's first load the data. You don't have to understand what is going on in the function, it does not matter here.\n",
        "\n",
        "⚠️ **Warning** ⚠️ The `load_data` function has a `percentage_of_sentences` argument. Depending on your computer, there are chances that a too large number of sentences will make your compute slow down, or even freeze - your RAM can even overflow. For that reason, **you should start with 10% of the sentences** and see if your computer handles it. Otherwise, rerun with a lower number. \n",
        "\n",
        "⚠️ **DISCLAIMER** ⚠️ **No need to play _who has the biggest_ (RAM) !** The idea is to get to run your models quickly to prototype. Even in real life, it is recommended that you start with a subset of your data to loop and debug quickly. So increase the number only if you are into getting the best accuracy. "
      ]
    },
    {
      "cell_type": "code",
      "execution_count": 1,
      "metadata": {
        "colab": {
          "base_uri": "https://localhost:8080/"
        },
        "id": "XkhFrj4DjMC_",
        "outputId": "b64a8ea1-6ac9-4c8e-d1df-cb40ca6e66c3"
      },
      "outputs": [
        {
          "output_type": "stream",
          "name": "stdout",
          "text": [
            "WARNING:tensorflow:From /usr/local/lib/python3.7/dist-packages/tensorflow_datasets/core/dataset_builder.py:598: get_single_element (from tensorflow.python.data.experimental.ops.get_single_element) is deprecated and will be removed in a future version.\n",
            "Instructions for updating:\n",
            "Use `tf.data.Dataset.get_single_element()`.\n"
          ]
        },
        {
          "output_type": "stream",
          "name": "stderr",
          "text": [
            "WARNING:tensorflow:From /usr/local/lib/python3.7/dist-packages/tensorflow_datasets/core/dataset_builder.py:598: get_single_element (from tensorflow.python.data.experimental.ops.get_single_element) is deprecated and will be removed in a future version.\n",
            "Instructions for updating:\n",
            "Use `tf.data.Dataset.get_single_element()`.\n"
          ]
        }
      ],
      "source": [
        "###########################################\n",
        "### Just run this cell to load the data ###\n",
        "###########################################\n",
        "\n",
        "import tensorflow_datasets as tfds\n",
        "from tensorflow.keras.preprocessing.text import text_to_word_sequence\n",
        "\n",
        "def load_data(percentage_of_sentences=None):\n",
        "    train_data, test_data = tfds.load(name=\"imdb_reviews\", split=[\"train\", \"test\"], batch_size=-1, as_supervised=True)\n",
        "\n",
        "    train_sentences, y_train = tfds.as_numpy(train_data)\n",
        "    test_sentences, y_test = tfds.as_numpy(test_data)\n",
        "    \n",
        "    # Take only a given percentage of the entire data\n",
        "    if percentage_of_sentences is not None:\n",
        "        assert(percentage_of_sentences> 0 and percentage_of_sentences<=100)\n",
        "        \n",
        "        len_train = int(percentage_of_sentences/100*len(train_sentences))\n",
        "        train_sentences, y_train = train_sentences[:len_train], y_train[:len_train]\n",
        "  \n",
        "        len_test = int(percentage_of_sentences/100*len(test_sentences))\n",
        "        test_sentences, y_test = test_sentences[:len_test], y_test[:len_test]\n",
        "    \n",
        "    X_train = [text_to_word_sequence(_.decode(\"utf-8\")) for _ in train_sentences]\n",
        "    X_test = [text_to_word_sequence(_.decode(\"utf-8\")) for _ in test_sentences]\n",
        "    \n",
        "    return X_train, y_train, X_test, y_test\n",
        "\n",
        "X_train, y_train, X_test, y_test = load_data(percentage_of_sentences=10)"
      ]
    },
    {
      "cell_type": "markdown",
      "metadata": {
        "id": "JqC-zxRZjMDB"
      },
      "source": [
        "In the previous exercise, we jointly learnt a representation for the words, and feed this representation to a RNN, as shown here : \n",
        "\n",
        "<img src=\"layers_embedding.png\" width=\"400px\" />\n",
        "\n",
        "However, this increases the number of parameters to learn, which can slow the convergence, and make it harder!\n",
        "\n",
        "For that reason, we will separate the steps of learning the word representation and feeding it to a RNN. As shown here : \n",
        "\n",
        "<img src=\"word2vec_representation.png\" width=\"400px\" />\n",
        "\n",
        "We will learn the embedding with the word2vec.\n",
        "\n",
        "The drawback is indeed that the learnt embedding is not _specifically_ designed for our task. However, learning it independently of the task at hand (sentiment analysis) has some advantages : \n",
        "- it is very fast to do in general (with word2vec)\n",
        "- the representation learnt by word2vec is still meaningful \n",
        "- the convergence of the RNN alone will be easier and faster\n",
        "\n",
        "So let's learn an embedding with word2vec and see how meaningful it is!\n",
        "\n",
        "\n",
        "# Embedding with Word2Vec\n",
        "\n",
        "Let's use Word2Vec to embed the words of our sentences. Word2Vec will be able to convert each word to a fixed-size vectorial representation.\n",
        "\n",
        "For instance, we will have:\n",
        "- 'dog' --> [0.1, -0.3, 0.8]\n",
        "- 'cat' --> [-1.1, 2.3, 0.7]\n",
        "- 'apple' --> [3.1, 0.9, -4.7]\n",
        "\n",
        "Here, your embedding space is of size 3.\n",
        "\n",
        "What you expect is to have representation such as words with close meanings are close in this embedding space. As on this example:\n",
        "\n",
        "![Embedding](word_embedding.png)\n",
        "\n",
        "❓ **Question** ❓ Let's run Word2Vec! The following code imports word2vec from [GENSIM](https://radimrehurek.com/gensim/), a great python package that makes the use of the word2vec algorithm easy, fast and accurate - which is not an easy task. The second line learns the embedding representation of the words thanks to the sentences in `X_train`."
      ]
    },
    {
      "cell_type": "code",
      "execution_count": 2,
      "metadata": {
        "id": "mM0BMP4OjMDD"
      },
      "outputs": [],
      "source": [
        "from gensim.models import Word2Vec\n",
        "\n",
        "word2vec = Word2Vec(sentences=X_train)"
      ]
    },
    {
      "cell_type": "markdown",
      "metadata": {
        "id": "B3F6wCTejMDD"
      },
      "source": [
        "Let's look at the embedded representation of some words.\n",
        "\n",
        "You can use `word2vec.wv` as a dictionary.\n",
        "For instance, `word2vec.wv['dog']` will return a representation of `dog` in the embedding space.\n",
        "\n",
        "❓ **Question** ❓ Try different words - especially, try non-existing words to see that they don't have any representation (which is perfectly normal as their representation were not learn). "
      ]
    },
    {
      "cell_type": "code",
      "execution_count": 3,
      "metadata": {
        "tags": [
          "challengify"
        ],
        "colab": {
          "base_uri": "https://localhost:8080/"
        },
        "id": "BTncXP2wjMDE",
        "outputId": "3bc0e6c2-4802-47d7-8f1a-e1ed62d43139"
      },
      "outputs": [
        {
          "output_type": "execute_result",
          "data": {
            "text/plain": [
              "array([ 0.07844488,  0.7644711 ,  0.21882778,  0.26382267,  0.01314416,\n",
              "       -0.36933747, -0.08810634, -0.18189937,  0.19595887,  0.04287645,\n",
              "        0.08303223,  0.05712103,  0.11947067, -0.2106274 , -0.30751988,\n",
              "       -0.351758  , -0.27597633,  0.28098506, -0.17614807,  0.32202664,\n",
              "       -0.00191581,  0.48451307, -0.09656357,  0.07547107, -0.10571094,\n",
              "       -0.20504159,  0.9199318 ,  0.23830077,  0.21239984,  0.16932815,\n",
              "       -0.5564228 ,  0.08761671,  0.03892357, -0.054103  ,  0.5103875 ,\n",
              "        0.46677244, -0.16612162, -0.35028896,  0.43616167,  0.21878888,\n",
              "       -0.20618138,  0.10868587,  0.28828385,  0.18492962,  0.3347238 ,\n",
              "        0.41039327,  0.03952486, -0.7658746 ,  0.28887507, -0.8575522 ,\n",
              "       -0.01432361,  0.51764023,  0.287696  ,  0.1224428 , -0.13979942,\n",
              "        0.14586571,  0.14842182, -0.08920785,  0.21304904, -0.45436874,\n",
              "       -0.3973817 , -0.57835084,  0.51074284,  0.34804463, -0.2725376 ,\n",
              "        0.18568236, -0.19814743,  0.06859285, -0.19428805, -0.13972965,\n",
              "        0.05248524, -0.02835281,  0.07010274,  0.21511856, -0.2157169 ,\n",
              "       -0.0570487 , -0.14579599, -0.15932484,  0.4478981 , -0.2704737 ,\n",
              "        0.29679227,  0.00984759, -0.568172  , -0.13270377, -0.29350314,\n",
              "        0.06410887,  0.13199358, -0.19860946,  0.5119825 ,  0.23294687,\n",
              "       -0.01601701, -0.10400327,  0.14072655, -0.15613231, -0.1366408 ,\n",
              "       -0.5793725 , -0.34846166,  0.4015976 ,  0.44710988,  0.36915243],\n",
              "      dtype=float32)"
            ]
          },
          "metadata": {},
          "execution_count": 3
        }
      ],
      "source": [
        "word2vec.wv['brother']"
      ]
    },
    {
      "cell_type": "markdown",
      "metadata": {
        "id": "SFEIYG-ljMDE"
      },
      "source": [
        "❓ **Question** ❓ What is the size of each word representation, and therefore, what is the size of the embedding space?"
      ]
    },
    {
      "cell_type": "code",
      "execution_count": 4,
      "metadata": {
        "tags": [
          "challengify"
        ],
        "colab": {
          "base_uri": "https://localhost:8080/"
        },
        "id": "M0F225EFjMDI",
        "outputId": "58f75605-121f-416d-fe4b-81cfa31e0fa2"
      },
      "outputs": [
        {
          "output_type": "execute_result",
          "data": {
            "text/plain": [
              "(100,)"
            ]
          },
          "metadata": {},
          "execution_count": 4
        }
      ],
      "source": [
        "(word2vec.wv['bag']).shape\n"
      ]
    },
    {
      "cell_type": "markdown",
      "metadata": {
        "id": "Hx6MGd_bjMDI"
      },
      "source": [
        "How to know if this embedding make any sense? To do that, we will check that words with a close meaning have close representations. \n",
        "\n",
        "Let's use the `word2vec.most_similar(...)` method that, given an input word, display the \"closest\" words in the embedding space. If the embedding is well done, then words that have close meanings will have close representation in the embedding space.\n",
        "\n",
        "❓ **Question** ❓ Test the `most_similar` method on different words. \n",
        "\n",
        "❗ **Remark** ❗ Indeed, the quality of the closeness will depend on the quality of your embedding, and thus, depend on the number of sentences that you have loaded and from which you create your embedding."
      ]
    },
    {
      "cell_type": "code",
      "execution_count": 5,
      "metadata": {
        "tags": [
          "challengify"
        ],
        "colab": {
          "base_uri": "https://localhost:8080/"
        },
        "id": "iSBAqgfOjMDM",
        "outputId": "8d7f14c4-6a9c-490c-e410-35cdaf265bb8"
      },
      "outputs": [
        {
          "output_type": "stream",
          "name": "stderr",
          "text": [
            "/usr/local/lib/python3.7/dist-packages/ipykernel_launcher.py:1: DeprecationWarning: Call to deprecated `most_similar` (Method will be removed in 4.0.0, use self.wv.most_similar() instead).\n",
            "  \"\"\"Entry point for launching an IPython kernel.\n"
          ]
        },
        {
          "output_type": "execute_result",
          "data": {
            "text/plain": [
              "[('boss', 0.9877901673316956),\n",
              " (\"wife's\", 0.9861291646957397),\n",
              " ('agent', 0.9858656525611877),\n",
              " ('secretary', 0.9855850338935852),\n",
              " ('affair', 0.9845020771026611)]"
            ]
          },
          "metadata": {},
          "execution_count": 5
        }
      ],
      "source": [
        "word2vec.most_similar('brother', topn = 5)"
      ]
    },
    {
      "cell_type": "markdown",
      "metadata": {
        "id": "GW8FYbRmjMDM"
      },
      "source": [
        "Similarly to `most_similar` used on words directly, we can use `similar_by_vector` on vectors to do the same thing :"
      ]
    },
    {
      "cell_type": "code",
      "execution_count": 6,
      "metadata": {
        "tags": [
          "challengify"
        ],
        "colab": {
          "base_uri": "https://localhost:8080/"
        },
        "id": "s0FL90m-jMDN",
        "outputId": "dd1618f7-251f-4348-da85-ecc11a14d3bc"
      },
      "outputs": [
        {
          "output_type": "stream",
          "name": "stderr",
          "text": [
            "/usr/local/lib/python3.7/dist-packages/ipykernel_launcher.py:1: DeprecationWarning: Call to deprecated `most_similar` (Method will be removed in 4.0.0, use self.wv.most_similar() instead).\n",
            "  \"\"\"Entry point for launching an IPython kernel.\n"
          ]
        },
        {
          "output_type": "execute_result",
          "data": {
            "text/plain": [
              "[('boss', 0.9877901673316956),\n",
              " (\"wife's\", 0.9861291646957397),\n",
              " ('agent', 0.9858656525611877),\n",
              " ('secretary', 0.9855850338935852),\n",
              " ('affair', 0.9845020771026611),\n",
              " ('baby', 0.9840225577354431),\n",
              " ('slowly', 0.9832121729850769),\n",
              " (\"jane's\", 0.9831498861312866),\n",
              " ('ex', 0.9830414652824402),\n",
              " ('body', 0.9827346205711365)]"
            ]
          },
          "metadata": {},
          "execution_count": 6
        }
      ],
      "source": [
        "word2vec.most_similar('brother')"
      ]
    },
    {
      "cell_type": "markdown",
      "metadata": {
        "id": "ksQU6iUHjMDN"
      },
      "source": [
        "# Arithmetic on words\n",
        "\n",
        "Now, let's do mathematical operations on words - meaning on their vector representations!\n",
        "\n",
        "As any word is represented as a vector, you can do basic arithmetic as:\n",
        "\n",
        "$$W2V(good) - W2V(bad)$$\n",
        "\n",
        "❓ **Question** ❓ Do this mathematical operation and print the result"
      ]
    },
    {
      "cell_type": "code",
      "source": [
        "word2vec['good']"
      ],
      "metadata": {
        "colab": {
          "base_uri": "https://localhost:8080/"
        },
        "id": "Ce-b3FL4ucvd",
        "outputId": "081b6230-d618-4bd3-941b-4ca858f012e3"
      },
      "execution_count": 7,
      "outputs": [
        {
          "output_type": "stream",
          "name": "stderr",
          "text": [
            "/usr/local/lib/python3.7/dist-packages/ipykernel_launcher.py:1: DeprecationWarning: Call to deprecated `__getitem__` (Method will be removed in 4.0.0, use self.wv.__getitem__() instead).\n",
            "  \"\"\"Entry point for launching an IPython kernel.\n"
          ]
        },
        {
          "output_type": "execute_result",
          "data": {
            "text/plain": [
              "array([-0.28036812, -0.34944084, -1.0180323 ,  0.1000254 ,  0.7067004 ,\n",
              "        0.3916027 ,  0.39437324,  0.26919165,  1.191167  ,  0.23404291,\n",
              "        0.10433029, -0.52164143,  0.07894851,  0.1958071 , -0.4749633 ,\n",
              "       -0.68388236, -0.36214727,  1.2183172 , -0.2909535 ,  0.07494736,\n",
              "        1.027347  ,  0.94684625, -0.6375715 , -1.5083861 ,  0.19520283,\n",
              "        0.64566016,  0.37898725, -0.31341583,  0.15045312,  0.43570265,\n",
              "        0.2428458 ,  0.71079594,  0.05170619,  1.1074327 ,  0.45858735,\n",
              "        0.55705863,  0.53201336, -0.50799155,  0.53521305, -0.4114679 ,\n",
              "       -0.2652131 , -0.378881  , -0.57729524,  0.694329  ,  0.9288008 ,\n",
              "        0.16157246, -0.5394942 , -0.55978453,  0.82730156,  0.328703  ,\n",
              "        0.03652394, -0.73975646, -0.33993444, -0.6901197 ,  0.8938073 ,\n",
              "        0.21640193, -0.5062941 , -1.1285013 ,  0.05574572,  0.36283973,\n",
              "       -0.6822395 , -1.4646344 ,  0.7204129 ,  0.32502013,  1.3367996 ,\n",
              "        0.1615151 ,  0.17371702,  1.6513917 , -0.27267498,  0.2260103 ,\n",
              "       -0.26304328, -0.49410287,  0.66452324, -0.287995  , -0.73812044,\n",
              "        0.00711788,  0.04991739, -1.5622249 ,  0.4002445 , -1.0569816 ,\n",
              "        0.25389212,  0.6016547 , -0.71391743, -0.05839354,  0.12419229,\n",
              "        0.62883216,  0.4352638 ,  0.44081947,  0.26981872, -0.5269736 ,\n",
              "       -0.53973883, -0.8836541 , -1.0927541 , -0.4616845 ,  0.6895135 ,\n",
              "       -0.48526493,  0.3094648 , -0.93947357,  0.21479027,  1.5273181 ],\n",
              "      dtype=float32)"
            ]
          },
          "metadata": {},
          "execution_count": 7
        }
      ]
    },
    {
      "cell_type": "code",
      "source": [
        "word2vec['bad']"
      ],
      "metadata": {
        "colab": {
          "base_uri": "https://localhost:8080/"
        },
        "id": "kbaWJF3auiNo",
        "outputId": "524584ce-cd5d-4767-f29c-d02aec737710"
      },
      "execution_count": 8,
      "outputs": [
        {
          "output_type": "stream",
          "name": "stderr",
          "text": [
            "/usr/local/lib/python3.7/dist-packages/ipykernel_launcher.py:1: DeprecationWarning: Call to deprecated `__getitem__` (Method will be removed in 4.0.0, use self.wv.__getitem__() instead).\n",
            "  \"\"\"Entry point for launching an IPython kernel.\n"
          ]
        },
        {
          "output_type": "execute_result",
          "data": {
            "text/plain": [
              "array([-0.9758785 , -0.06054089, -0.8376446 , -0.1661509 ,  0.3839048 ,\n",
              "        0.22498976,  0.7041599 ,  0.2341546 ,  1.2482345 ,  0.17135358,\n",
              "       -0.20619692, -0.8202449 , -0.18652634,  0.85711986, -0.7692983 ,\n",
              "       -0.79055214, -0.09010241,  1.1463437 , -0.60753727, -0.12711234,\n",
              "        0.767033  ,  0.74863034, -0.7242605 , -2.0401    ,  0.17307363,\n",
              "        0.7380483 ,  0.302094  , -0.2914538 , -0.23013993,  0.98624295,\n",
              "       -0.5175133 ,  0.8201486 ,  0.00381414,  0.6945321 ,  0.75245047,\n",
              "        0.43474776,  0.20485692, -0.52426404, -0.01444014,  0.04690975,\n",
              "        0.16758966, -0.11424051, -0.560066  ,  0.36846387,  0.45380053,\n",
              "        0.22311354, -0.6661848 , -0.479867  ,  0.746905  ,  0.20708627,\n",
              "       -0.37188217, -0.76185226, -0.46062675, -0.9051041 ,  1.1570258 ,\n",
              "        0.35051125, -0.49734926, -1.4377657 ,  0.51131254,  0.524433  ,\n",
              "       -0.5205661 , -1.2062815 ,  0.6421526 ,  0.36308318,  1.6335195 ,\n",
              "        0.67242414,  0.33857548,  2.1877418 , -0.36111674,  0.3466591 ,\n",
              "       -0.11254229, -0.17681214,  0.01024473, -0.16403286, -1.3670509 ,\n",
              "       -0.02661642, -0.25727248, -1.4034019 ,  0.1467304 , -0.9285315 ,\n",
              "        0.4218824 ,  0.65302247, -0.8346925 , -0.18924458, -0.280858  ,\n",
              "        0.77185076,  0.35270116,  0.48287922, -0.09127658, -0.61218506,\n",
              "       -1.1528294 , -0.9933527 , -1.3763217 , -0.61294603,  0.40006348,\n",
              "       -0.5091516 ,  0.1746947 , -0.898179  , -0.13150959,  1.4712597 ],\n",
              "      dtype=float32)"
            ]
          },
          "metadata": {},
          "execution_count": 8
        }
      ]
    },
    {
      "cell_type": "code",
      "execution_count": 9,
      "metadata": {
        "tags": [
          "challengify"
        ],
        "colab": {
          "base_uri": "https://localhost:8080/"
        },
        "id": "DBoqOdODjMDO",
        "outputId": "ae837f07-e222-40fe-e744-bf41aa986943"
      },
      "outputs": [
        {
          "output_type": "stream",
          "name": "stderr",
          "text": [
            "/usr/local/lib/python3.7/dist-packages/ipykernel_launcher.py:1: DeprecationWarning: Call to deprecated `__getitem__` (Method will be removed in 4.0.0, use self.wv.__getitem__() instead).\n",
            "  \"\"\"Entry point for launching an IPython kernel.\n"
          ]
        },
        {
          "output_type": "execute_result",
          "data": {
            "text/plain": [
              "array([ 0.6955104 , -0.28889996, -0.18038774,  0.26617628,  0.32279557,\n",
              "        0.16661294, -0.30978668,  0.03503706, -0.05706751,  0.06268933,\n",
              "        0.3105272 ,  0.29860348,  0.26547486, -0.66131276,  0.294335  ,\n",
              "        0.10666978, -0.27204487,  0.07197344,  0.31658378,  0.2020597 ,\n",
              "        0.260314  ,  0.1982159 ,  0.086689  ,  0.53171396,  0.02212919,\n",
              "       -0.09238815,  0.07689324, -0.02196202,  0.38059306, -0.5505403 ,\n",
              "        0.76035905, -0.10935265,  0.04789206,  0.41290063, -0.29386312,\n",
              "        0.12231088,  0.32715642,  0.01627249,  0.5496532 , -0.45837766,\n",
              "       -0.43280277, -0.2646405 , -0.01722926,  0.32586515,  0.4750003 ,\n",
              "       -0.06154108,  0.12669057, -0.07991752,  0.08039653,  0.12161672,\n",
              "        0.4084061 ,  0.0220958 ,  0.12069231,  0.21498442, -0.26321852,\n",
              "       -0.13410932, -0.00894481,  0.30926442, -0.45556682, -0.16159329,\n",
              "       -0.16167337, -0.25835288,  0.0782603 , -0.03806305, -0.2967199 ,\n",
              "       -0.510909  , -0.16485846, -0.53635   ,  0.08844176, -0.1206488 ,\n",
              "       -0.150501  , -0.31729072,  0.6542785 , -0.12396215,  0.62893045,\n",
              "        0.0337343 ,  0.30718988, -0.15882301,  0.2535141 , -0.12845004,\n",
              "       -0.16799027, -0.05136776,  0.12077504,  0.13085105,  0.4050503 ,\n",
              "       -0.1430186 ,  0.08256266, -0.04205975,  0.3610953 ,  0.08521146,\n",
              "        0.6130906 ,  0.10969859,  0.28356755,  0.15126154,  0.28945002,\n",
              "        0.02388665,  0.13477011, -0.04129457,  0.34629986,  0.05605841],\n",
              "      dtype=float32)"
            ]
          },
          "metadata": {},
          "execution_count": 9
        }
      ],
      "source": [
        "word2vec['good'] - word2vec['bad']"
      ]
    },
    {
      "cell_type": "markdown",
      "metadata": {
        "id": "aBQ-fVU4jMDO"
      },
      "source": [
        "Now, image for a second that, somehow, the following equality holds true - just for a second\n",
        "\n",
        "$$W2V(good) - W2V(bad) = W2V(nice) - W2V(stupid)$$\n",
        "\n",
        "which is equivalent to \n",
        "\n",
        "$$W2V(good) - W2V(bad) + W2V(stupid) = W2V(nice)$$\n",
        "\n",
        "❓ **Question** ❓ Let's, just for fun (as it would be foolish of us to think that this equality holds true ...), do the operation $W2V(good) - W2V(bad) + W2V(stupid)$ and store it in a `res` variable (which will be a vector of size 100 that you can print)."
      ]
    },
    {
      "cell_type": "code",
      "execution_count": 10,
      "metadata": {
        "tags": [
          "challengify"
        ],
        "colab": {
          "base_uri": "https://localhost:8080/"
        },
        "id": "qixFdsnDjMDP",
        "outputId": "4dc4deb2-3ac6-4b01-92c7-952cdb3b5a9a"
      },
      "outputs": [
        {
          "output_type": "execute_result",
          "data": {
            "text/plain": [
              "array([ 0.36364865, -0.03988828, -0.303497  ,  0.2530726 ,  0.31436428,\n",
              "        0.12568676, -0.05146831,  0.03145878,  0.49750447,  0.32976073,\n",
              "        0.2653114 , -0.08813155,  0.28434494, -0.48726714, -0.2567947 ,\n",
              "       -0.35392994, -0.31043866,  0.6738354 , -0.14091063,  0.08416631,\n",
              "        0.42948145,  0.76987433, -0.26540524, -0.49734294,  0.01459266,\n",
              "        0.20936596,  0.73968077, -0.1513848 ,  0.55912673, -0.03424275,\n",
              "        0.27697885,  0.05877638,  0.16965869,  0.5056011 ,  0.20612586,\n",
              "        0.50967914,  0.3703368 , -0.26267204,  0.74844664, -0.28041148,\n",
              "       -0.41733098, -0.20401193, -0.17690891,  0.52693033,  0.7278209 ,\n",
              "        0.13827384, -0.15301833, -0.6335592 ,  0.64276356, -0.24643114,\n",
              "        0.24147645, -0.12870945,  0.00846568, -0.10625124,  0.09193674,\n",
              "       -0.00472535, -0.14508727, -0.3800649 , -0.12519875, -0.12555963,\n",
              "       -0.53051436, -0.9235814 ,  0.6066879 ,  0.26696125,  0.41087353,\n",
              "       -0.22793606, -0.15508069,  0.36086798, -0.00548852, -0.1764378 ,\n",
              "       -0.14705472, -0.22831011,  0.59009755, -0.31500447,  0.16496521,\n",
              "       -0.02034724, -0.03989011, -0.7846977 ,  0.33291733, -0.6232295 ,\n",
              "        0.10827404,  0.10529332, -0.540469  ,  0.08829466,  0.15212041,\n",
              "        0.24620178,  0.16769178,  0.16198222,  0.5139414 , -0.14513792,\n",
              "        0.24941954, -0.31894797, -0.18828666, -0.17671701,  0.24921288,\n",
              "       -0.23633575,  0.17912927, -0.11576074,  0.43058306,  0.57879704],\n",
              "      dtype=float32)"
            ]
          },
          "metadata": {},
          "execution_count": 10
        }
      ],
      "source": [
        "res = word2vec.wv['good'] - word2vec.wv['bad'] + word2vec.wv['stupid']\n",
        "res"
      ]
    },
    {
      "cell_type": "markdown",
      "metadata": {
        "id": "BPPW-VB1jMDP"
      },
      "source": [
        "We earlier said that, for any vector, it is possible to see the closest vectors in the embedding space.\n",
        "\n",
        "❓ **Question** ❓ Look at the closest vector (thanks to the `word2vec.wv.similar_by_vector` function) of `res`"
      ]
    },
    {
      "cell_type": "code",
      "execution_count": 11,
      "metadata": {
        "tags": [
          "challengify"
        ],
        "colab": {
          "base_uri": "https://localhost:8080/"
        },
        "id": "K1TQsZG6jMDP",
        "outputId": "c62995b7-2eb2-4bc8-c1e7-9ea20d7bc8eb"
      },
      "outputs": [
        {
          "output_type": "execute_result",
          "data": {
            "text/plain": [
              "[('nice', 0.8190746307373047),\n",
              " ('good', 0.7813634276390076),\n",
              " ('potential', 0.7658889293670654),\n",
              " ('always', 0.7658437490463257),\n",
              " ('deed', 0.7636969089508057),\n",
              " ('considered', 0.7625093460083008),\n",
              " ('rotten', 0.7619683742523193),\n",
              " ('shallow', 0.7598617076873779),\n",
              " ('also', 0.75977623462677),\n",
              " ('casting', 0.7591575384140015)]"
            ]
          },
          "metadata": {},
          "execution_count": 11
        }
      ],
      "source": [
        "word2vec.wv.similar_by_vector(res)"
      ]
    },
    {
      "cell_type": "markdown",
      "metadata": {
        "id": "bb1qMFgIjMDP"
      },
      "source": [
        "Incredible right! You can do arithmetic operations on words!\n",
        "\n",
        "❓ **Question** ❓ You can try on arithmetic such as \n",
        "\n",
        "$$W2V(Boy) - W2V(Girl) = W2V(Man) - W2V(Woman)$$\n",
        "\n",
        "or \n",
        "\n",
        "$$W2V(Queen) - W2V(King) = W2V(actress) - W2V(actor)$$\n",
        "\n",
        "❗ **Remark** ❗ You will probably see that the results are not perfect. But don't forget that you trained your model on a very small corpus."
      ]
    },
    {
      "cell_type": "code",
      "execution_count": 12,
      "metadata": {
        "tags": [
          "challengify"
        ],
        "colab": {
          "base_uri": "https://localhost:8080/"
        },
        "id": "2BSgyZaQjMDP",
        "outputId": "3bf6111f-e0da-4d1a-9470-20c25d46c26e"
      },
      "outputs": [
        {
          "output_type": "execute_result",
          "data": {
            "text/plain": [
              "array([ 0.02387837, -0.13334703,  0.0228833 , -0.2204645 , -0.2310467 ,\n",
              "        0.24296752,  0.2251661 , -0.05537346, -0.03541873,  0.03381006,\n",
              "       -0.02820839, -0.09484578, -0.10350215,  0.0430564 , -0.12043357,\n",
              "       -0.11371687,  0.12966302, -0.43150723, -0.04432358,  0.07228571,\n",
              "        0.11380366, -0.26751208, -0.01095181, -0.24488261,  0.14526623,\n",
              "       -0.0753617 ,  0.06439596,  0.02249971,  0.13955536, -0.10460076,\n",
              "        0.0738765 , -0.15326887,  0.04842924,  0.06963913,  0.16039947,\n",
              "       -0.16562438,  0.12586877,  0.07717109, -0.25888538, -0.19389534,\n",
              "        0.20971847, -0.05056566, -0.07214996,  0.00316104,  0.06076777,\n",
              "       -0.20811966,  0.18991224, -0.03849351, -0.01343423, -0.0707857 ,\n",
              "        0.03346885, -0.13701183, -0.2686939 , -0.27373856,  0.07821295,\n",
              "       -0.0715012 , -0.18828082, -0.20102888,  0.18150723,  0.1256653 ,\n",
              "        0.08012795,  0.14761823,  0.01198691, -0.10497043, -0.05643964,\n",
              "       -0.01613759,  0.2278853 , -0.01986025,  0.3102513 ,  0.05560264,\n",
              "        0.19918157,  0.04240993,  0.03140558, -0.01793541, -0.08025512,\n",
              "       -0.07879558, -0.16614388, -0.0707074 , -0.15961629,  0.24229273,\n",
              "        0.03905118,  0.22804368, -0.18937972,  0.15285833, -0.1449527 ,\n",
              "       -0.07368006, -0.1587299 ,  0.22751597, -0.02203363, -0.03072354,\n",
              "       -0.00101763, -0.1202259 , -0.19703111, -0.23721856, -0.1188091 ,\n",
              "        0.14063722,  0.06344715, -0.15831172, -0.20485538, -0.17688179],\n",
              "      dtype=float32)"
            ]
          },
          "metadata": {},
          "execution_count": 12
        }
      ],
      "source": [
        "word2vec.wv['boy'] - word2vec.wv['girl'] \n"
      ]
    },
    {
      "cell_type": "code",
      "source": [
        "word2vec.wv['boy'] - word2vec.wv['girl'] "
      ],
      "metadata": {
        "colab": {
          "base_uri": "https://localhost:8080/"
        },
        "id": "DCdnI0UbwR29",
        "outputId": "42f5dbd3-6c8a-4d3d-fa89-9ddb09a0d1ff"
      },
      "execution_count": 13,
      "outputs": [
        {
          "output_type": "execute_result",
          "data": {
            "text/plain": [
              "array([ 0.02387837, -0.13334703,  0.0228833 , -0.2204645 , -0.2310467 ,\n",
              "        0.24296752,  0.2251661 , -0.05537346, -0.03541873,  0.03381006,\n",
              "       -0.02820839, -0.09484578, -0.10350215,  0.0430564 , -0.12043357,\n",
              "       -0.11371687,  0.12966302, -0.43150723, -0.04432358,  0.07228571,\n",
              "        0.11380366, -0.26751208, -0.01095181, -0.24488261,  0.14526623,\n",
              "       -0.0753617 ,  0.06439596,  0.02249971,  0.13955536, -0.10460076,\n",
              "        0.0738765 , -0.15326887,  0.04842924,  0.06963913,  0.16039947,\n",
              "       -0.16562438,  0.12586877,  0.07717109, -0.25888538, -0.19389534,\n",
              "        0.20971847, -0.05056566, -0.07214996,  0.00316104,  0.06076777,\n",
              "       -0.20811966,  0.18991224, -0.03849351, -0.01343423, -0.0707857 ,\n",
              "        0.03346885, -0.13701183, -0.2686939 , -0.27373856,  0.07821295,\n",
              "       -0.0715012 , -0.18828082, -0.20102888,  0.18150723,  0.1256653 ,\n",
              "        0.08012795,  0.14761823,  0.01198691, -0.10497043, -0.05643964,\n",
              "       -0.01613759,  0.2278853 , -0.01986025,  0.3102513 ,  0.05560264,\n",
              "        0.19918157,  0.04240993,  0.03140558, -0.01793541, -0.08025512,\n",
              "       -0.07879558, -0.16614388, -0.0707074 , -0.15961629,  0.24229273,\n",
              "        0.03905118,  0.22804368, -0.18937972,  0.15285833, -0.1449527 ,\n",
              "       -0.07368006, -0.1587299 ,  0.22751597, -0.02203363, -0.03072354,\n",
              "       -0.00101763, -0.1202259 , -0.19703111, -0.23721856, -0.1188091 ,\n",
              "        0.14063722,  0.06344715, -0.15831172, -0.20485538, -0.17688179],\n",
              "      dtype=float32)"
            ]
          },
          "metadata": {},
          "execution_count": 13
        }
      ]
    },
    {
      "cell_type": "code",
      "source": [
        ""
      ],
      "metadata": {
        "id": "x7jvHoTOxsJf"
      },
      "execution_count": 13,
      "outputs": []
    },
    {
      "cell_type": "markdown",
      "metadata": {
        "id": "ZMrFegtMjMDR"
      },
      "source": [
        "You might wonder where does this magic comes from (at quite a low price, you just run a line of code on a very small corpus and it was trained within few minutes). The magic comes from the way Word2Vec is trained. The details are quite complex, but you can remember that Word2vec, in `word2vec = Word2Vec(sentences=X_train)` , actually trains a internal neural network (that you don't see).  \n",
        "\n",
        "In a nutshell, this internal NN predicts a word from the surroundings words in a sentences. So it chooses many splits in the different sentences, choose some words as inputs $X$  and a word as output $y$ which it tries to predict, in the embedding space.\n",
        "\n",
        "And as any neural network, Word2Vec has some hyperparameters. Let's check some. \n",
        "\n",
        "\n",
        "# Word2Vec hyperparameters\n",
        "\n",
        "\n",
        "❓ **Question** ❓ The first important hyperparameter is the `vector_size` argument. It corresponds to the size of the embedding space. Learn a new `word2vec_2` model, still trained on the `X_train`, but with a smaller or higher `vector_size`.\n",
        "\n",
        "Verify on some words that the corresponding embedding is of your selected size."
      ]
    },
    {
      "cell_type": "code",
      "source": [
        "word2vec_2 = Word2Vec(sentences=X_train, size=4*3)\n"
      ],
      "metadata": {
        "id": "rc1j7ykKwQf4"
      },
      "execution_count": 14,
      "outputs": []
    },
    {
      "cell_type": "code",
      "execution_count": 15,
      "metadata": {
        "tags": [
          "challengify"
        ],
        "colab": {
          "base_uri": "https://localhost:8080/"
        },
        "id": "4OqmvgZejMDS",
        "outputId": "97281198-6417-4ba6-ca80-df8a167d9f87"
      },
      "outputs": [
        {
          "output_type": "execute_result",
          "data": {
            "text/plain": [
              "array([ 0.64376754,  2.8919094 ,  0.61202884,  0.63728905, -0.32400402,\n",
              "       -0.95701206, -0.67272455, -0.59447956,  0.10882372,  0.48578835,\n",
              "        0.33955926,  0.22682025], dtype=float32)"
            ]
          },
          "metadata": {},
          "execution_count": 15
        }
      ],
      "source": [
        "word2vec_2.wv['brother']"
      ]
    },
    {
      "cell_type": "markdown",
      "metadata": {
        "id": "e_cvcgGljMDU"
      },
      "source": [
        "❓ **Question** ❓ Use the `word2vec.wv.key_to_index` attribute to display the size of the learnt vocabulary. On the other hand, compare it to the number of different words in `X_train`."
      ]
    },
    {
      "cell_type": "code",
      "execution_count": 16,
      "metadata": {
        "tags": [
          "challengify"
        ],
        "colab": {
          "base_uri": "https://localhost:8080/"
        },
        "id": "pVKpdI-ljMDU",
        "outputId": "ba48aab6-8c5c-4706-c767-df27c91bc252"
      },
      "outputs": [
        {
          "output_type": "execute_result",
          "data": {
            "text/plain": [
              "8006"
            ]
          },
          "metadata": {},
          "execution_count": 16
        }
      ],
      "source": [
        "len(word2vec_2.wv.index2word)"
      ]
    },
    {
      "cell_type": "code",
      "source": [
        "words_total = []\n",
        "for word in X_train:\n",
        "  words_total += word\n",
        "\n",
        "len(words_total)"
      ],
      "metadata": {
        "colab": {
          "base_uri": "https://localhost:8080/"
        },
        "id": "jIGALb8E0-pz",
        "outputId": "8a21c058-2ece-45d7-f56b-f970deff57bc"
      },
      "execution_count": 17,
      "outputs": [
        {
          "output_type": "execute_result",
          "data": {
            "text/plain": [
              "582733"
            ]
          },
          "metadata": {},
          "execution_count": 17
        }
      ]
    },
    {
      "cell_type": "code",
      "source": [
        "import numpy as np"
      ],
      "metadata": {
        "id": "__pW_EGI3JFf"
      },
      "execution_count": 18,
      "outputs": []
    },
    {
      "cell_type": "code",
      "source": [
        "len(np.unique(words_total))"
      ],
      "metadata": {
        "colab": {
          "base_uri": "https://localhost:8080/"
        },
        "id": "k-uLbICt3Kyk",
        "outputId": "a05d5ef0-9ec7-4aca-a387-2a5ff0462c2e"
      },
      "execution_count": 19,
      "outputs": [
        {
          "output_type": "execute_result",
          "data": {
            "text/plain": [
              "30419"
            ]
          },
          "metadata": {},
          "execution_count": 19
        }
      ]
    },
    {
      "cell_type": "markdown",
      "metadata": {
        "id": "QmoFreqDjMDU"
      },
      "source": [
        "There is an important difference between the number of words in the train sentences and in the Word2Vec vocabulary, even though it has been train on the train sentence set. The reasons comes from the second important hyperparameter of Word2Vec :  `min_count`. \n",
        "\n",
        "`min_count` is a integer that tells you how many occurences a given word should have to be learn in the embedding space. For instance, let's say that the word \"movie\" appears 1000 times in the corpus and \"simba\" only 2 times. If `min_count=3`, the word \"simba\" will be skipped during the training.\n",
        "\n",
        "The intention is to have only words that are sufficiently present in the corpus to have a robust embedded representation\n",
        "\n",
        "❓ **Question** ❓ Learn a new `word2vec_3` model with a `min_count` higher than 5 (which is the default value) and a `word2vec_4` with a `min_count` smaller than 5, and then, compare the size of the vocabulary for all the different word2vec that you have trained (you can choose any `vector_size` you want)."
      ]
    },
    {
      "cell_type": "code",
      "execution_count": 20,
      "metadata": {
        "tags": [
          "challengify"
        ],
        "id": "zGQZTT94jMDU"
      },
      "outputs": [],
      "source": [
        "word2vec_3 = Word2Vec(sentences = X_train, size =12, min_count = 6)"
      ]
    },
    {
      "cell_type": "code",
      "source": [
        "word2vec_4 = Word2Vec(sentences= X_train, size = 12, min_count = 3)"
      ],
      "metadata": {
        "id": "lsTM9K234b6F"
      },
      "execution_count": 21,
      "outputs": []
    },
    {
      "cell_type": "markdown",
      "metadata": {
        "id": "pN0o8asOjMDV"
      },
      "source": [
        "Remember that we say that word2vec has an internal neural network that it optimizes based on some predictions? These predictions actually correspond to predicting a word based on surrounding words. The surroundings words are in a `window` which corresponds to the number of words taken into account. And you can train the word2vec with different `window` sizes.\n",
        "\n",
        "❓ **Question** ❓ Learn a new `word2vec_5` model with a `window` different than previously (default is 5)."
      ]
    },
    {
      "cell_type": "code",
      "execution_count": 22,
      "metadata": {
        "tags": [
          "challengify"
        ],
        "colab": {
          "base_uri": "https://localhost:8080/"
        },
        "id": "9D0IVQ4njMDV",
        "outputId": "5dc0b275-47f5-4c9a-beee-fda1ae81b0f4"
      },
      "outputs": [
        {
          "output_type": "stream",
          "name": "stderr",
          "text": [
            "WARNING:gensim.models.base_any2vec:consider setting layer size to a multiple of 4 for greater performance\n"
          ]
        }
      ],
      "source": [
        "word2vec_5 = Word2Vec(sentences= X_train, size = 10, min_count = 4, window = 7 )"
      ]
    },
    {
      "cell_type": "markdown",
      "metadata": {
        "id": "yItsxYV7jMDV"
      },
      "source": [
        "The arguments you have seen (`vector_size`, `min_count` and `window`) are usually the one that you should start changing to get a better performance for your model.\n",
        "\n",
        "But you can also look at other arguments in the [documentation](https://radimrehurek.com/gensim/models/word2vec.html#gensim.models.word2vec.Text8Corpus)\n",
        "\n",
        "\n",
        "\n",
        "# Convert our train and test set to RNN ready data\n",
        "\n",
        "Remember that word2vec is the first step to the overall process of feeding such a representation into a RNN, as shown here :\n",
        "\n",
        "<img src=\"word2vec_representation.png\" width=\"400px\" />\n",
        "\n",
        "\n",
        "\n",
        "Now, let's work on Step 2 by converting the training and test data into their vector representation to be ready to be feed in RNNs.\n",
        "\n",
        "❓ **Question** ❓ Now, write a function that, given a sentence, returns a matrix that corresponds to the embedding of the full sentence, which means that you have to embed each word one after the other and concatenate the result to output a 2D matrix (be sure that your output is a NumPy array)\n",
        "\n",
        "❗ **Remark** ❗ You will probably notice that some words you are trying to convert throw errors as they are said not to belong to the dictionary:\n",
        "\n",
        "- for the test set, this is understandable: some words were not in the train set and thus their embedded representation is unknown\n",
        "- for the train set, due to `min_count` hyperparameter, not all the words have a vector representation\n",
        "\n",
        "In any case, just skip the missing words here."
      ]
    },
    {
      "cell_type": "code",
      "execution_count": 26,
      "metadata": {
        "id": "m47EQK_tjMDV"
      },
      "outputs": [],
      "source": [
        "import numpy as np\n",
        "\n",
        "example = ['this', 'movie', 'is', 'the', 'worst', 'action', 'movie', 'ever']\n",
        "example_missing_words = ['this', 'movie', 'is', 'laaaaaaaaaame']\n",
        "\n",
        "def embed_sentence(word2vec, sentence):\n",
        "  res = []\n",
        "  for word in sentence:\n",
        "    try:\n",
        "      embed = word2vec.wv[word]\n",
        "      res.append(embed)\n",
        "    except KeyError:\n",
        "      pass\n",
        "  return np.array(res)\n",
        "    \n",
        "### Checks\n",
        "embedded_sentence = embed_sentence(word2vec, example)\n",
        "assert(type(embedded_sentence) == np.ndarray)\n",
        "assert(embedded_sentence.shape == (8, 100))\n",
        "\n",
        "embedded_sentence_missing_words = embed_sentence(word2vec, example_missing_words)  \n",
        "assert(type(embedded_sentence_missing_words) == np.ndarray)\n",
        "assert(embedded_sentence_missing_words.shape == (3, 100))"
      ]
    },
    {
      "cell_type": "markdown",
      "metadata": {
        "id": "glRvHL-JjMDW"
      },
      "source": [
        "❓ **Question** ❓ Write a function that, given a list of sentence (each sentence being a list of words/strings), returns a list of embedded sentences (each sentence is a matrix). Apply this function to the train and test sentences\n",
        "\n",
        "Hint: Use the previous function `embed_sentence`"
      ]
    },
    {
      "cell_type": "code",
      "execution_count": 24,
      "metadata": {
        "id": "AcMyq2DijMDW"
      },
      "outputs": [],
      "source": [
        "def embedding(word2vec, sentences):\n",
        "  res = []\n",
        "  for sentence in sentences:\n",
        "    embedded_sentence = embed_sentence(word2vec, sentence)\n",
        "    res.append(embedded_sentence)\n",
        "\n",
        "  return res\n",
        "    \n",
        "X_train = embedding(word2vec, X_train)\n",
        "X_test = embedding(word2vec, X_test)"
      ]
    },
    {
      "cell_type": "markdown",
      "metadata": {
        "id": "eGTzaK7gjMDW"
      },
      "source": [
        "❓ **Question** ❓ In order to have ready-to-use data, do not forget to pad them in order to have tensors that can be divided in batch sizes during the optimization. Store the padedd values in `X_train_pad` and `X_test_pad`. Do not forget the important arguments of the padding ;)"
      ]
    },
    {
      "cell_type": "code",
      "execution_count": 25,
      "metadata": {
        "id": "J2qB706_jMDW"
      },
      "outputs": [],
      "source": [
        "from tensorflow.keras.preprocessing.sequence import pad_sequences\n",
        "\n",
        "X_train_pad = pad_sequences(X_train)\n",
        "X_test_pad = pad_sequences(X_test)\n",
        "\n",
        "assert(len(X_train_pad.shape) == 3)\n",
        "assert(len(X_test_pad.shape) == 3)\n",
        "assert(X_train_pad.shape[2] == 100)\n",
        "assert(X_test_pad.shape[2] == 100)"
      ]
    },
    {
      "cell_type": "code",
      "source": [
        ""
      ],
      "metadata": {
        "id": "iu7hKjvS6Cih"
      },
      "execution_count": 25,
      "outputs": []
    }
  ],
  "metadata": {
    "kernelspec": {
      "display_name": "Python 3",
      "language": "python",
      "name": "python3"
    },
    "colab": {
      "name": "Understand-embeddings-with-word2vec.ipynb",
      "provenance": [],
      "collapsed_sections": [],
      "include_colab_link": true
    }
  },
  "nbformat": 4,
  "nbformat_minor": 0
}